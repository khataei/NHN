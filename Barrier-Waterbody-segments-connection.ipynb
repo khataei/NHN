{
 "cells": [
  {
   "cell_type": "code",
   "execution_count": 4,
   "metadata": {},
   "outputs": [],
   "source": [
    "import geopandas as gpd\n",
    "import pandas as pd\n",
    "import fiona\n",
    "from shapely.geometry import Polygon, LineString, Point\n",
    "from geopandas import GeoSeries\n"
   ]
  },
  {
   "cell_type": "code",
   "execution_count": 20,
   "metadata": {},
   "outputs": [
    {
     "name": "stderr",
     "output_type": "stream",
     "text": [
      "/home/javad/anaconda3/lib/python3.8/site-packages/geopandas/geodataframe.py:422: RuntimeWarning: Sequential read of iterator was interrupted. Resetting iterator. This can negatively impact the performance.\n",
      "  for feature in features_lst:\n"
     ]
    }
   ],
   "source": [
    "wb_df = gpd.read_file(\"data/Humber.waterbodies.gpkg\")\n",
    "wb_df['wb_id'] = wb_df.index"
   ]
  },
  {
   "cell_type": "code",
   "execution_count": 21,
   "metadata": {},
   "outputs": [
    {
     "data": {
      "text/html": [
       "<div>\n",
       "<style scoped>\n",
       "    .dataframe tbody tr th:only-of-type {\n",
       "        vertical-align: middle;\n",
       "    }\n",
       "\n",
       "    .dataframe tbody tr th {\n",
       "        vertical-align: top;\n",
       "    }\n",
       "\n",
       "    .dataframe thead th {\n",
       "        text-align: right;\n",
       "    }\n",
       "</style>\n",
       "<table border=\"1\" class=\"dataframe\">\n",
       "  <thead>\n",
       "    <tr style=\"text-align: right;\">\n",
       "      <th></th>\n",
       "      <th>barrier_ty</th>\n",
       "      <th>geometry</th>\n",
       "    </tr>\n",
       "  </thead>\n",
       "  <tbody>\n",
       "    <tr>\n",
       "      <th>0</th>\n",
       "      <td>grand</td>\n",
       "      <td>POINT (-57.25639 49.19823)</td>\n",
       "    </tr>\n",
       "    <tr>\n",
       "      <th>1</th>\n",
       "      <td>nhn</td>\n",
       "      <td>POINT (-57.03635 49.63076)</td>\n",
       "    </tr>\n",
       "    <tr>\n",
       "      <th>2</th>\n",
       "      <td>nhn</td>\n",
       "      <td>POINT (-58.08564 49.06965)</td>\n",
       "    </tr>\n",
       "    <tr>\n",
       "      <th>3</th>\n",
       "      <td>nhn</td>\n",
       "      <td>POINT (-57.81380 48.93041)</td>\n",
       "    </tr>\n",
       "    <tr>\n",
       "      <th>4</th>\n",
       "      <td>nhn</td>\n",
       "      <td>POINT (-57.07446 49.66377)</td>\n",
       "    </tr>\n",
       "  </tbody>\n",
       "</table>\n",
       "</div>"
      ],
      "text/plain": [
       "  barrier_ty                    geometry\n",
       "0      grand  POINT (-57.25639 49.19823)\n",
       "1        nhn  POINT (-57.03635 49.63076)\n",
       "2        nhn  POINT (-58.08564 49.06965)\n",
       "3        nhn  POINT (-57.81380 48.93041)\n",
       "4        nhn  POINT (-57.07446 49.66377)"
      ]
     },
     "execution_count": 21,
     "metadata": {},
     "output_type": "execute_result"
    }
   ],
   "source": [
    "br_df = gpd.read_file('data/Humber_Barriers.gpkg')\n",
    "\n",
    "br_df.head()"
   ]
  },
  {
   "cell_type": "code",
   "execution_count": 25,
   "metadata": {},
   "outputs": [
    {
     "data": {
      "text/html": [
       "<div>\n",
       "<style scoped>\n",
       "    .dataframe tbody tr th:only-of-type {\n",
       "        vertical-align: middle;\n",
       "    }\n",
       "\n",
       "    .dataframe tbody tr th {\n",
       "        vertical-align: top;\n",
       "    }\n",
       "\n",
       "    .dataframe thead th {\n",
       "        text-align: right;\n",
       "    }\n",
       "</style>\n",
       "<table border=\"1\" class=\"dataframe\">\n",
       "  <thead>\n",
       "    <tr style=\"text-align: right;\">\n",
       "      <th></th>\n",
       "      <th>barrier_ty</th>\n",
       "      <th>geometry</th>\n",
       "    </tr>\n",
       "  </thead>\n",
       "  <tbody>\n",
       "    <tr>\n",
       "      <th>0</th>\n",
       "      <td>grand</td>\n",
       "      <td>POINT (-57.25639 49.19824)</td>\n",
       "    </tr>\n",
       "    <tr>\n",
       "      <th>1</th>\n",
       "      <td>nhn</td>\n",
       "      <td>POINT (-57.03634 49.63077)</td>\n",
       "    </tr>\n",
       "    <tr>\n",
       "      <th>2</th>\n",
       "      <td>nhn</td>\n",
       "      <td>POINT (-58.08563 49.06966)</td>\n",
       "    </tr>\n",
       "    <tr>\n",
       "      <th>3</th>\n",
       "      <td>nhn</td>\n",
       "      <td>POINT (-57.81380 48.93042)</td>\n",
       "    </tr>\n",
       "    <tr>\n",
       "      <th>4</th>\n",
       "      <td>nhn</td>\n",
       "      <td>POINT (-57.07446 49.66378)</td>\n",
       "    </tr>\n",
       "  </tbody>\n",
       "</table>\n",
       "</div>"
      ],
      "text/plain": [
       "  barrier_ty                    geometry\n",
       "0      grand  POINT (-57.25639 49.19824)\n",
       "1        nhn  POINT (-57.03634 49.63077)\n",
       "2        nhn  POINT (-58.08563 49.06966)\n",
       "3        nhn  POINT (-57.81380 48.93042)\n",
       "4        nhn  POINT (-57.07446 49.66378)"
      ]
     },
     "execution_count": 25,
     "metadata": {},
     "output_type": "execute_result"
    }
   ],
   "source": [
    "br_df = br_df.to_crs(\"EPSG:4326\") # crs of waterbodies is 4326\n",
    "br_df.head()"
   ]
  },
  {
   "cell_type": "markdown",
   "metadata": {},
   "source": [
    "## Intersection between waterbodies and barriers\n",
    "Create connection between barriers and waterbodies"
   ]
  },
  {
   "cell_type": "code",
   "execution_count": 27,
   "metadata": {},
   "outputs": [],
   "source": [
    "br_wb_intesect_df = gpd.overlay(br_df, wb_df, how='intersection', make_valid=True, keep_geom_type=True)"
   ]
  },
  {
   "cell_type": "code",
   "execution_count": 28,
   "metadata": {},
   "outputs": [
    {
     "data": {
      "text/html": [
       "<div>\n",
       "<style scoped>\n",
       "    .dataframe tbody tr th:only-of-type {\n",
       "        vertical-align: middle;\n",
       "    }\n",
       "\n",
       "    .dataframe tbody tr th {\n",
       "        vertical-align: top;\n",
       "    }\n",
       "\n",
       "    .dataframe thead th {\n",
       "        text-align: right;\n",
       "    }\n",
       "</style>\n",
       "<table border=\"1\" class=\"dataframe\">\n",
       "  <thead>\n",
       "    <tr style=\"text-align: right;\">\n",
       "      <th></th>\n",
       "      <th>barrier_ty</th>\n",
       "      <th>region_id</th>\n",
       "      <th>area</th>\n",
       "      <th>definition</th>\n",
       "      <th>wb_id</th>\n",
       "      <th>geometry</th>\n",
       "    </tr>\n",
       "  </thead>\n",
       "  <tbody>\n",
       "    <tr>\n",
       "      <th>0</th>\n",
       "      <td>grand</td>\n",
       "      <td>Humber</td>\n",
       "      <td>1.257443e+08</td>\n",
       "      <td>-1</td>\n",
       "      <td>7884</td>\n",
       "      <td>POINT (-57.25639 49.19824)</td>\n",
       "    </tr>\n",
       "    <tr>\n",
       "      <th>1</th>\n",
       "      <td>nhn</td>\n",
       "      <td>Humber</td>\n",
       "      <td>1.257443e+08</td>\n",
       "      <td>-1</td>\n",
       "      <td>7884</td>\n",
       "      <td>POINT (-57.39176 49.48927)</td>\n",
       "    </tr>\n",
       "    <tr>\n",
       "      <th>2</th>\n",
       "      <td>nhn</td>\n",
       "      <td>Humber</td>\n",
       "      <td>1.257443e+08</td>\n",
       "      <td>-1</td>\n",
       "      <td>7884</td>\n",
       "      <td>POINT (-57.39299 49.48980)</td>\n",
       "    </tr>\n",
       "    <tr>\n",
       "      <th>3</th>\n",
       "      <td>nlprov</td>\n",
       "      <td>Humber</td>\n",
       "      <td>1.257443e+08</td>\n",
       "      <td>-1</td>\n",
       "      <td>7884</td>\n",
       "      <td>POINT (-57.09722 49.51945)</td>\n",
       "    </tr>\n",
       "    <tr>\n",
       "      <th>4</th>\n",
       "      <td>npdp</td>\n",
       "      <td>Humber</td>\n",
       "      <td>1.257443e+08</td>\n",
       "      <td>-1</td>\n",
       "      <td>7884</td>\n",
       "      <td>POINT (-57.43661 49.17022)</td>\n",
       "    </tr>\n",
       "  </tbody>\n",
       "</table>\n",
       "</div>"
      ],
      "text/plain": [
       "  barrier_ty region_id          area  definition  wb_id  \\\n",
       "0      grand    Humber  1.257443e+08          -1   7884   \n",
       "1        nhn    Humber  1.257443e+08          -1   7884   \n",
       "2        nhn    Humber  1.257443e+08          -1   7884   \n",
       "3     nlprov    Humber  1.257443e+08          -1   7884   \n",
       "4       npdp    Humber  1.257443e+08          -1   7884   \n",
       "\n",
       "                     geometry  \n",
       "0  POINT (-57.25639 49.19824)  \n",
       "1  POINT (-57.39176 49.48927)  \n",
       "2  POINT (-57.39299 49.48980)  \n",
       "3  POINT (-57.09722 49.51945)  \n",
       "4  POINT (-57.43661 49.17022)  "
      ]
     },
     "execution_count": 28,
     "metadata": {},
     "output_type": "execute_result"
    }
   ],
   "source": [
    "br_wb_intesect_df.head()"
   ]
  },
  {
   "cell_type": "markdown",
   "metadata": {},
   "source": [
    "## Segments\n",
    "\n",
    "\n",
    "is there an intersection between barriers and segments?"
   ]
  },
  {
   "cell_type": "code",
   "execution_count": 41,
   "metadata": {},
   "outputs": [
    {
     "name": "stderr",
     "output_type": "stream",
     "text": [
      "/home/javad/anaconda3/lib/python3.8/site-packages/geopandas/geodataframe.py:422: RuntimeWarning: Sequential read of iterator was interrupted. Resetting iterator. This can negatively impact the performance.\n",
      "  for feature in features_lst:\n"
     ]
    },
    {
     "data": {
      "text/html": [
       "<div>\n",
       "<style scoped>\n",
       "    .dataframe tbody tr th:only-of-type {\n",
       "        vertical-align: middle;\n",
       "    }\n",
       "\n",
       "    .dataframe tbody tr th {\n",
       "        vertical-align: top;\n",
       "    }\n",
       "\n",
       "    .dataframe thead th {\n",
       "        text-align: right;\n",
       "    }\n",
       "</style>\n",
       "<table border=\"1\" class=\"dataframe\">\n",
       "  <thead>\n",
       "    <tr style=\"text-align: right;\">\n",
       "      <th></th>\n",
       "      <th>region_id</th>\n",
       "      <th>type</th>\n",
       "      <th>rank</th>\n",
       "      <th>length</th>\n",
       "      <th>name</th>\n",
       "      <th>nameid</th>\n",
       "      <th>from_node_id</th>\n",
       "      <th>to_node_id</th>\n",
       "      <th>geometry</th>\n",
       "    </tr>\n",
       "  </thead>\n",
       "  <tbody>\n",
       "    <tr>\n",
       "      <th>0</th>\n",
       "      <td>Humber</td>\n",
       "      <td>Inferred</td>\n",
       "      <td>Primary</td>\n",
       "      <td>52.404344</td>\n",
       "      <td>None</td>\n",
       "      <td>None</td>\n",
       "      <td>26762</td>\n",
       "      <td>26764</td>\n",
       "      <td>LINESTRING (-57.96237 49.25319, -57.96233 49.2...</td>\n",
       "    </tr>\n",
       "    <tr>\n",
       "      <th>1</th>\n",
       "      <td>Humber</td>\n",
       "      <td>Inferred</td>\n",
       "      <td>Primary</td>\n",
       "      <td>38.001086</td>\n",
       "      <td>None</td>\n",
       "      <td>None</td>\n",
       "      <td>8150</td>\n",
       "      <td>8147</td>\n",
       "      <td>LINESTRING (-57.08230 49.42386, -57.08234 49.4...</td>\n",
       "    </tr>\n",
       "    <tr>\n",
       "      <th>2</th>\n",
       "      <td>Humber</td>\n",
       "      <td>Inferred</td>\n",
       "      <td>Primary</td>\n",
       "      <td>41.694741</td>\n",
       "      <td>None</td>\n",
       "      <td>None</td>\n",
       "      <td>8151</td>\n",
       "      <td>8150</td>\n",
       "      <td>LINESTRING (-57.08232 49.42422, -57.08235 49.4...</td>\n",
       "    </tr>\n",
       "    <tr>\n",
       "      <th>3</th>\n",
       "      <td>Humber</td>\n",
       "      <td>Bank</td>\n",
       "      <td>Primary</td>\n",
       "      <td>21.196205</td>\n",
       "      <td>None</td>\n",
       "      <td>None</td>\n",
       "      <td>8148</td>\n",
       "      <td>8150</td>\n",
       "      <td>LINESTRING (-57.08210 49.42372, -57.08220 49.4...</td>\n",
       "    </tr>\n",
       "    <tr>\n",
       "      <th>4</th>\n",
       "      <td>Humber</td>\n",
       "      <td>Inferred</td>\n",
       "      <td>Primary</td>\n",
       "      <td>14.079574</td>\n",
       "      <td>None</td>\n",
       "      <td>None</td>\n",
       "      <td>51032</td>\n",
       "      <td>51029</td>\n",
       "      <td>LINESTRING (-57.50818 49.73562, -57.50818 49.7...</td>\n",
       "    </tr>\n",
       "  </tbody>\n",
       "</table>\n",
       "</div>"
      ],
      "text/plain": [
       "  region_id      type     rank     length  name nameid  from_node_id  \\\n",
       "0    Humber  Inferred  Primary  52.404344  None   None         26762   \n",
       "1    Humber  Inferred  Primary  38.001086  None   None          8150   \n",
       "2    Humber  Inferred  Primary  41.694741  None   None          8151   \n",
       "3    Humber      Bank  Primary  21.196205  None   None          8148   \n",
       "4    Humber  Inferred  Primary  14.079574  None   None         51032   \n",
       "\n",
       "   to_node_id                                           geometry  \n",
       "0       26764  LINESTRING (-57.96237 49.25319, -57.96233 49.2...  \n",
       "1        8147  LINESTRING (-57.08230 49.42386, -57.08234 49.4...  \n",
       "2        8150  LINESTRING (-57.08232 49.42422, -57.08235 49.4...  \n",
       "3        8150  LINESTRING (-57.08210 49.42372, -57.08220 49.4...  \n",
       "4       51029  LINESTRING (-57.50818 49.73562, -57.50818 49.7...  "
      ]
     },
     "execution_count": 41,
     "metadata": {},
     "output_type": "execute_result"
    }
   ],
   "source": [
    "sg_df = gpd.read_file(\"data/Humber.network.gpkg\").set_crs(\"EPSG:4326\")\n",
    "sg_df.head()"
   ]
  },
  {
   "cell_type": "code",
   "execution_count": 42,
   "metadata": {},
   "outputs": [],
   "source": [
    "br_sg_intesect_df = gpd.overlay(br_df, sg_df, how='intersection', make_valid=True, keep_geom_type=True)"
   ]
  },
  {
   "cell_type": "code",
   "execution_count": 43,
   "metadata": {},
   "outputs": [
    {
     "data": {
      "text/html": [
       "<div>\n",
       "<style scoped>\n",
       "    .dataframe tbody tr th:only-of-type {\n",
       "        vertical-align: middle;\n",
       "    }\n",
       "\n",
       "    .dataframe tbody tr th {\n",
       "        vertical-align: top;\n",
       "    }\n",
       "\n",
       "    .dataframe thead th {\n",
       "        text-align: right;\n",
       "    }\n",
       "</style>\n",
       "<table border=\"1\" class=\"dataframe\">\n",
       "  <thead>\n",
       "    <tr style=\"text-align: right;\">\n",
       "      <th></th>\n",
       "      <th>to_node_id</th>\n",
       "      <th>rank</th>\n",
       "      <th>type</th>\n",
       "      <th>length</th>\n",
       "      <th>region_id</th>\n",
       "      <th>nameid</th>\n",
       "      <th>barrier_ty</th>\n",
       "      <th>name</th>\n",
       "      <th>from_node_id</th>\n",
       "      <th>geometry</th>\n",
       "    </tr>\n",
       "  </thead>\n",
       "  <tbody>\n",
       "  </tbody>\n",
       "</table>\n",
       "</div>"
      ],
      "text/plain": [
       "Empty GeoDataFrame\n",
       "Columns: [to_node_id, rank, type, length, region_id, nameid, barrier_ty, name, from_node_id, geometry]\n",
       "Index: []"
      ]
     },
     "execution_count": 43,
     "metadata": {},
     "output_type": "execute_result"
    }
   ],
   "source": [
    "br_sg_intesect_df"
   ]
  },
  {
   "cell_type": "markdown",
   "metadata": {},
   "source": [
    "The empty results show that there's no intersection.\n",
    "\n",
    "\n",
    "### Finding closest segment"
   ]
  },
  {
   "cell_type": "code",
   "execution_count": 71,
   "metadata": {},
   "outputs": [],
   "source": [
    "import itertools\n",
    "from operator import itemgetter\n",
    "\n",
    "import geopandas as gpd\n",
    "import numpy as np\n",
    "import pandas as pd\n",
    "\n",
    "from scipy.spatial import cKDTree\n",
    "from shapely.geometry import Point, LineString\n",
    "\n",
    "\n",
    "def ckdnearest_line(gdfA, gdfB, gdfB_cols=['name']):\n",
    "    \"\"\" A is point and B is Linestring \"\"\"\n",
    "    # resetting the index of gdfA and gdfB here.\n",
    "    gdfA = gdfA.reset_index(drop=True)\n",
    "    gdfB = gdfB.reset_index(drop=True)\n",
    "    A = np.concatenate(\n",
    "        [np.array(geom.coords) for geom in gdfA.geometry.to_list()])\n",
    "    B = [np.array(geom.coords) for geom in gdfB.geometry.to_list()]\n",
    "    B_ix = tuple(itertools.chain.from_iterable(\n",
    "        [itertools.repeat(i, x) for i, x in enumerate(list(map(len, B)))]))\n",
    "    B = np.concatenate(B)\n",
    "    ckd_tree = cKDTree(B)\n",
    "    dist, idx = ckd_tree.query(A, k=1)\n",
    "    idx = itemgetter(*idx)(B_ix)\n",
    "    gdf = pd.concat(\n",
    "        [gdfA, gdfB.loc[idx, gdfB_cols].reset_index(drop=True),\n",
    "         pd.Series(dist, name='dist')], axis=1)\n",
    "    return gdf\n",
    "\n"
   ]
  },
  {
   "cell_type": "code",
   "execution_count": 46,
   "metadata": {},
   "outputs": [],
   "source": [
    "sg_cols = ['region_id', 'type', 'rank', 'length', 'name', 'nameid', 'from_node_id',\n",
    "       'to_node_id'] # to keep, modify this later"
   ]
  },
  {
   "cell_type": "code",
   "execution_count": 72,
   "metadata": {},
   "outputs": [],
   "source": [
    "br_sg_nearest_df = ckdnearest_line(br_df, sg_df, sg_cols)"
   ]
  },
  {
   "cell_type": "markdown",
   "metadata": {},
   "source": [
    "## Find closest waterbody to a barrier"
   ]
  },
  {
   "cell_type": "code",
   "execution_count": 74,
   "metadata": {},
   "outputs": [],
   "source": [
    "\n",
    "def ckdnearest_poly(gdfA, gdfB, gdfB_cols):\n",
    "    \"\"\" A is point and B is Polygon \"\"\"\n",
    "    gdfA = gdfA.reset_index(drop=True)\n",
    "    gdfB = gdfB.reset_index(drop=True)\n",
    "    A = np.concatenate(\n",
    "        [np.array(geom.coords) for geom in gdfA.geometry.to_list()])\n",
    "    B = [np.array(geom.coords) for geom in gdfB.exterior]\n",
    "    B_ix = tuple(itertools.chain.from_iterable(\n",
    "        [itertools.repeat(i, x) for i, x in enumerate(list(map(len, B)))]))\n",
    "    B = np.concatenate(B)\n",
    "    ckd_tree = cKDTree(B)\n",
    "    dist, idx = ckd_tree.query(A, k=1)\n",
    "    idx = itemgetter(*idx)(B_ix)\n",
    "    gdf = pd.concat(\n",
    "        [gdfA, gdfB.loc[idx, gdfB_cols].reset_index(drop=True),\n",
    "         pd.Series(dist, name='dist')], axis=1)\n",
    "    return gdf\n",
    "\n"
   ]
  },
  {
   "cell_type": "code",
   "execution_count": 75,
   "metadata": {},
   "outputs": [],
   "source": [
    "br_wb_nearest_df = ckdnearest_poly(br_df, wb_df, ['wb_id'])"
   ]
  },
  {
   "cell_type": "code",
   "execution_count": 76,
   "metadata": {},
   "outputs": [
    {
     "data": {
      "text/html": [
       "<div>\n",
       "<style scoped>\n",
       "    .dataframe tbody tr th:only-of-type {\n",
       "        vertical-align: middle;\n",
       "    }\n",
       "\n",
       "    .dataframe tbody tr th {\n",
       "        vertical-align: top;\n",
       "    }\n",
       "\n",
       "    .dataframe thead th {\n",
       "        text-align: right;\n",
       "    }\n",
       "</style>\n",
       "<table border=\"1\" class=\"dataframe\">\n",
       "  <thead>\n",
       "    <tr style=\"text-align: right;\">\n",
       "      <th></th>\n",
       "      <th>barrier_ty</th>\n",
       "      <th>geometry</th>\n",
       "      <th>wb_id</th>\n",
       "      <th>dist</th>\n",
       "    </tr>\n",
       "  </thead>\n",
       "  <tbody>\n",
       "    <tr>\n",
       "      <th>0</th>\n",
       "      <td>grand</td>\n",
       "      <td>POINT (-57.25639 49.19824)</td>\n",
       "      <td>7884</td>\n",
       "      <td>0.000011</td>\n",
       "    </tr>\n",
       "    <tr>\n",
       "      <th>1</th>\n",
       "      <td>nhn</td>\n",
       "      <td>POINT (-57.03634 49.63077)</td>\n",
       "      <td>3217</td>\n",
       "      <td>0.000011</td>\n",
       "    </tr>\n",
       "    <tr>\n",
       "      <th>2</th>\n",
       "      <td>nhn</td>\n",
       "      <td>POINT (-58.08563 49.06966)</td>\n",
       "      <td>4989</td>\n",
       "      <td>0.000011</td>\n",
       "    </tr>\n",
       "    <tr>\n",
       "      <th>3</th>\n",
       "      <td>nhn</td>\n",
       "      <td>POINT (-57.81380 48.93042)</td>\n",
       "      <td>2467</td>\n",
       "      <td>0.000011</td>\n",
       "    </tr>\n",
       "    <tr>\n",
       "      <th>4</th>\n",
       "      <td>nhn</td>\n",
       "      <td>POINT (-57.07446 49.66378)</td>\n",
       "      <td>4007</td>\n",
       "      <td>0.000011</td>\n",
       "    </tr>\n",
       "  </tbody>\n",
       "</table>\n",
       "</div>"
      ],
      "text/plain": [
       "  barrier_ty                    geometry  wb_id      dist\n",
       "0      grand  POINT (-57.25639 49.19824)   7884  0.000011\n",
       "1        nhn  POINT (-57.03634 49.63077)   3217  0.000011\n",
       "2        nhn  POINT (-58.08563 49.06966)   4989  0.000011\n",
       "3        nhn  POINT (-57.81380 48.93042)   2467  0.000011\n",
       "4        nhn  POINT (-57.07446 49.66378)   4007  0.000011"
      ]
     },
     "execution_count": 76,
     "metadata": {},
     "output_type": "execute_result"
    }
   ],
   "source": [
    "br_wb_nearest_df.head()"
   ]
  },
  {
   "cell_type": "markdown",
   "metadata": {},
   "source": [
    "##  Summary:\n",
    "\n",
    "- Connections between barrier--waterbodies and barrier--segments are created.\n",
    "- Use the connections to create csv file for Neo4J"
   ]
  },
  {
   "cell_type": "markdown",
   "metadata": {},
   "source": [
    "## Next step:\n",
    "\n",
    "- Prepare sites' data and convert from excel to geo format\n",
    "- Find the closest location (segment / water body / barrier) to each site\n",
    "- Define a threshold for \"being at/in\" a location\n",
    "- create a relationship between site and these three nodes as `located in/at`\n",
    "\n",
    "In the point, geological relationships are done.   **Note**: junction and segments are connected by the `overlay` function."
   ]
  },
  {
   "cell_type": "code",
   "execution_count": null,
   "metadata": {},
   "outputs": [],
   "source": []
  }
 ],
 "metadata": {
  "kernelspec": {
   "display_name": "Python 3",
   "language": "python",
   "name": "python3"
  },
  "language_info": {
   "codemirror_mode": {
    "name": "ipython",
    "version": 3
   },
   "file_extension": ".py",
   "mimetype": "text/x-python",
   "name": "python",
   "nbconvert_exporter": "python",
   "pygments_lexer": "ipython3",
   "version": "3.8.5"
  }
 },
 "nbformat": 4,
 "nbformat_minor": 4
}
