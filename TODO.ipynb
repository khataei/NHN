{
 "cells": [
  {
   "cell_type": "markdown",
   "metadata": {},
   "source": [
    "## TODO"
   ]
  },
  {
   "cell_type": "markdown",
   "metadata": {},
   "source": [
    "- Cabin has study. Study has lat lon, Lat and lon can be mapped to NHN flow and/or NHN waterbody\n",
    "\n",
    "- Create a junction data set from the flow  \n",
    "Similar to the process done in file based-on-gpkg-file\n",
    "\n",
    "- Create River dataset:  \n",
    "For some segment we have river. Segments have NID, so each segment can be apart of a river or no. Get the fl_df and drop all river names == NONE and for the rest we have a one to many relationship for rivers and segments. Rivers are characterized by name.\n",
    "\n"
   ]
  },
  {
   "cell_type": "code",
   "execution_count": null,
   "metadata": {},
   "outputs": [],
   "source": [
    "river to segment ==> Done\n",
    "study location to closest segment / waterbody ==> Done\n",
    "segment and junction nodes should be created\n",
    "Culvert data similar to study : export excel file ==> Should be fast, code already there=Cabin...\n",
    "Salmon data similar to study: googledrive, Salmonid ==> Done\n",
    "segment to water body\n",
    "junction to water body "
   ]
  },
  {
   "cell_type": "markdown",
   "metadata": {},
   "source": [
    "# Meeting notes:\n",
    "- Mention how water body and segment ids are created\n",
    "\n",
    "\n",
    "There are several files that have lon lat. Which ones should we use?\n",
    "- **Important** Salmonids has site but no site id. why? how do we connect salmonids to a site?\n",
    "- For Tom, for Tom cleaned, for Tom ACA?! are these structures? which one use?\n",
    "- Several file that are related to sites, \n",
    "- Some of the lon and lat of sites are missing, e.g. Labrador_2020_sites_Water_Chem\n",
    "    - Solution: Bind all files with site in them and use the file to create the relationship (siteid belongs to or is close to segment, etc) as some siteids might have lat lon in other files.\n",
    "    \n",
    "- Water quality data for national has Lon Lat but only 100 obs whereas NL water quality data has more observations but no lon lat. Why is that? can we get the data?\n",
    "\n",
    "**Important** What is the difference between siteid (in site files like dna and site water chem) and site_no (in water quality)? How are they produced?"
   ]
  },
  {
   "cell_type": "markdown",
   "metadata": {},
   "source": [
    "---\n"
   ]
  },
  {
   "cell_type": "markdown",
   "metadata": {},
   "source": [
    "# TODO:\n",
    "it's better to see all the files that have siteid as one. Then for each siteid find the closest segment, waterbody. The same thing for site_no. The important question would be the connection between siteid and site_no. \n",
    "So, after answering that, bind all relevant files and select only lat lon and site id and connect them to segments, etc, etc.\n",
    "\n",
    "### Three types\n",
    "\n",
    "---\n",
    "- Files with siteid:\n",
    "Start with Labrador\n",
    "\n",
    "- File for structures like culvert, has their own id. For Tom *\n",
    "- File with site_no, Water quality..."
   ]
  }
 ],
 "metadata": {
  "kernelspec": {
   "display_name": "Python 3",
   "language": "python",
   "name": "python3"
  },
  "language_info": {
   "codemirror_mode": {
    "name": "ipython",
    "version": 3
   },
   "file_extension": ".py",
   "mimetype": "text/x-python",
   "name": "python",
   "nbconvert_exporter": "python",
   "pygments_lexer": "ipython3",
   "version": "3.8.5"
  }
 },
 "nbformat": 4,
 "nbformat_minor": 4
}
