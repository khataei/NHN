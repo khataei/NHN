{
 "cells": [
  {
   "cell_type": "markdown",
   "metadata": {},
   "source": [
    "## TODO"
   ]
  },
  {
   "cell_type": "markdown",
   "metadata": {},
   "source": [
    "- Cabin has study. Study has lat lon, Lat and lon can be mapped to NHN flow and/or NHN waterbody\n",
    "\n",
    "- Create a junction data set from the flow  \n",
    "Similar to the process done in file based-on-gpkg-file\n",
    "\n",
    "- Create River dataset:  \n",
    "For some segment we have river. Segments have NID, so each segment can be apart of a river or no. Get the fl_df and drop all river names == NONE and for the rest we have a one to many relationship for rivers and segments. Rivers are characterized by name.\n",
    "\n"
   ]
  },
  {
   "cell_type": "code",
   "execution_count": null,
   "metadata": {},
   "outputs": [],
   "source": []
  }
 ],
 "metadata": {
  "kernelspec": {
   "display_name": "Python 3",
   "language": "python",
   "name": "python3"
  },
  "language_info": {
   "codemirror_mode": {
    "name": "ipython",
    "version": 3
   },
   "file_extension": ".py",
   "mimetype": "text/x-python",
   "name": "python",
   "nbconvert_exporter": "python",
   "pygments_lexer": "ipython3",
   "version": "3.8.5"
  }
 },
 "nbformat": 4,
 "nbformat_minor": 4
}
