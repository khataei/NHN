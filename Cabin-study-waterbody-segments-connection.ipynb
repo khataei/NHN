{
 "cells": [
  {
   "cell_type": "markdown",
   "id": "charming-kitty",
   "metadata": {},
   "source": [
    "## Objective:\n",
    "Create relationship between the Cabin study data and segments and/or water bodies."
   ]
  },
  {
   "cell_type": "code",
   "execution_count": 1,
   "id": "dated-peninsula",
   "metadata": {},
   "outputs": [],
   "source": [
    "import geopandas as gpd\n",
    "import pandas as pd\n",
    "import fiona\n",
    "from ipyfilechooser import FileChooser\n",
    "from shapely.geometry import Polygon, LineString, Point\n",
    "from geopandas import GeoSeries"
   ]
  },
  {
   "cell_type": "markdown",
   "id": "pleased-plant",
   "metadata": {},
   "source": [
    "## Steps:\n",
    "- Convert lon and lot from Cabin data to Points\n",
    "- Use the two functions in `Barrier-Waterbody-segments-connection` file\n",
    "- Find the closest segment and water body to each study point\n",
    "- Export the results as CSv for Neo4j"
   ]
  },
  {
   "cell_type": "code",
   "execution_count": null,
   "id": "disabled-hands",
   "metadata": {},
   "outputs": [],
   "source": []
  }
 ],
 "metadata": {
  "kernelspec": {
   "display_name": "Python 3",
   "language": "python",
   "name": "python3"
  },
  "language_info": {
   "codemirror_mode": {
    "name": "ipython",
    "version": 3
   },
   "file_extension": ".py",
   "mimetype": "text/x-python",
   "name": "python",
   "nbconvert_exporter": "python",
   "pygments_lexer": "ipython3",
   "version": "3.8.5"
  }
 },
 "nbformat": 4,
 "nbformat_minor": 5
}
