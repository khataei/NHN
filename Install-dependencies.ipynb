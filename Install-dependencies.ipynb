{
 "cells": [
  {
   "cell_type": "markdown",
   "metadata": {},
   "source": [
    "# Install required packages\n",
    "\n",
    "### Tip: \n",
    "- Use Ctrl + Enter to run a cell and stay in the same cell\n",
    "- Use Shift + Enter to run a cell and move to the next cell\n",
    "\n",
    "\n",
    "## Run the following cells:"
   ]
  },
  {
   "cell_type": "code",
   "execution_count": 11,
   "metadata": {},
   "outputs": [
    {
     "name": "stdout",
     "output_type": "stream",
     "text": [
      "Requirement already satisfied: pandas in /home/javad/.local/lib/python3.8/site-packages (1.0.5)\r\n",
      "Requirement already satisfied: numpy>=1.13.3 in /home/javad/.local/lib/python3.8/site-packages (from pandas) (1.19.0)\r\n",
      "Requirement already satisfied: pytz>=2017.2 in /home/javad/anaconda3/envs/NHN/lib/python3.8/site-packages (from pandas) (2021.1)\r\n",
      "Requirement already satisfied: python-dateutil>=2.6.1 in /home/javad/anaconda3/envs/NHN/lib/python3.8/site-packages (from pandas) (2.8.1)\r\n",
      "Requirement already satisfied: six>=1.5 in /home/javad/anaconda3/envs/NHN/lib/python3.8/site-packages (from python-dateutil>=2.6.1->pandas) (1.15.0)\r\n"
     ]
    }
   ],
   "source": [
    "!pip install pandas\n",
    "import pandas as pd"
   ]
  },
  {
   "cell_type": "code",
   "execution_count": 13,
   "metadata": {},
   "outputs": [
    {
     "name": "stdout",
     "output_type": "stream",
     "text": [
      "Requirement already satisfied: geopandas in /home/javad/anaconda3/envs/NHN/lib/python3.8/site-packages (0.9.0)\n",
      "Requirement already satisfied: shapely>=1.6 in /home/javad/anaconda3/envs/NHN/lib/python3.8/site-packages (from geopandas) (1.7.1)\n",
      "Requirement already satisfied: pandas>=0.24.0 in /home/javad/.local/lib/python3.8/site-packages (from geopandas) (1.0.5)\n",
      "Requirement already satisfied: fiona>=1.8 in /home/javad/anaconda3/envs/NHN/lib/python3.8/site-packages (from geopandas) (1.8.18)\n",
      "Requirement already satisfied: pyproj>=2.2.0 in /home/javad/anaconda3/envs/NHN/lib/python3.8/site-packages (from geopandas) (3.0.1)\n",
      "Requirement already satisfied: click<8,>=4.0 in /home/javad/anaconda3/envs/NHN/lib/python3.8/site-packages (from fiona>=1.8->geopandas) (7.1.2)\n",
      "Requirement already satisfied: attrs>=17 in /home/javad/anaconda3/envs/NHN/lib/python3.8/site-packages (from fiona>=1.8->geopandas) (20.3.0)\n",
      "Requirement already satisfied: six>=1.7 in /home/javad/anaconda3/envs/NHN/lib/python3.8/site-packages (from fiona>=1.8->geopandas) (1.15.0)\n",
      "Requirement already satisfied: certifi in /home/javad/anaconda3/envs/NHN/lib/python3.8/site-packages (from fiona>=1.8->geopandas) (2020.12.5)\n",
      "Requirement already satisfied: click-plugins>=1.0 in /home/javad/anaconda3/envs/NHN/lib/python3.8/site-packages (from fiona>=1.8->geopandas) (1.1.1)\n",
      "Requirement already satisfied: munch in /home/javad/anaconda3/envs/NHN/lib/python3.8/site-packages (from fiona>=1.8->geopandas) (2.5.0)\n",
      "Requirement already satisfied: cligj>=0.5 in /home/javad/anaconda3/envs/NHN/lib/python3.8/site-packages (from fiona>=1.8->geopandas) (0.7.1)\n",
      "Requirement already satisfied: numpy>=1.13.3 in /home/javad/.local/lib/python3.8/site-packages (from pandas>=0.24.0->geopandas) (1.19.0)\n",
      "Requirement already satisfied: pytz>=2017.2 in /home/javad/anaconda3/envs/NHN/lib/python3.8/site-packages (from pandas>=0.24.0->geopandas) (2021.1)\n",
      "Requirement already satisfied: python-dateutil>=2.6.1 in /home/javad/anaconda3/envs/NHN/lib/python3.8/site-packages (from pandas>=0.24.0->geopandas) (2.8.1)\n"
     ]
    }
   ],
   "source": [
    "!pip install geopandas\n",
    "import geopandas as gpd"
   ]
  },
  {
   "cell_type": "code",
   "execution_count": 14,
   "metadata": {},
   "outputs": [
    {
     "name": "stdout",
     "output_type": "stream",
     "text": [
      "Collecting matplotlib\n",
      "  Downloading matplotlib-3.3.4-cp38-cp38-manylinux1_x86_64.whl (11.6 MB)\n",
      "\u001b[K     |████████████████████████████████| 11.6 MB 5.8 MB/s eta 0:00:01\n",
      "\u001b[?25hRequirement already satisfied: pyparsing!=2.0.4,!=2.1.2,!=2.1.6,>=2.0.3 in /home/javad/anaconda3/envs/NHN/lib/python3.8/site-packages (from matplotlib) (2.4.7)\n",
      "Collecting kiwisolver>=1.0.1\n",
      "  Downloading kiwisolver-1.3.1-cp38-cp38-manylinux1_x86_64.whl (1.2 MB)\n",
      "\u001b[K     |████████████████████████████████| 1.2 MB 6.1 MB/s eta 0:00:01\n",
      "\u001b[?25hCollecting cycler>=0.10\n",
      "  Using cached cycler-0.10.0-py2.py3-none-any.whl (6.5 kB)\n",
      "Requirement already satisfied: python-dateutil>=2.1 in /home/javad/anaconda3/envs/NHN/lib/python3.8/site-packages (from matplotlib) (2.8.1)\n",
      "Collecting pillow>=6.2.0\n",
      "  Downloading Pillow-8.1.2-cp38-cp38-manylinux1_x86_64.whl (2.2 MB)\n",
      "\u001b[K     |████████████████████████████████| 2.2 MB 7.3 MB/s eta 0:00:01\n",
      "\u001b[?25hRequirement already satisfied: numpy>=1.15 in /home/javad/.local/lib/python3.8/site-packages (from matplotlib) (1.19.0)\n",
      "Requirement already satisfied: six in /home/javad/anaconda3/envs/NHN/lib/python3.8/site-packages (from cycler>=0.10->matplotlib) (1.15.0)\n",
      "Installing collected packages: pillow, kiwisolver, cycler, matplotlib\n",
      "Successfully installed cycler-0.10.0 kiwisolver-1.3.1 matplotlib-3.3.4 pillow-8.1.2\n"
     ]
    }
   ],
   "source": [
    "!pip install matplotlib\n",
    "import matplotlib"
   ]
  },
  {
   "cell_type": "code",
   "execution_count": 1,
   "metadata": {},
   "outputs": [
    {
     "name": "stdout",
     "output_type": "stream",
     "text": [
      "Collecting ipyfilechooser\n",
      "  Downloading ipyfilechooser-0.4.2-py3-none-any.whl (8.3 kB)\n",
      "Requirement already satisfied: ipywidgets in /home/javad/anaconda3/envs/NHN/lib/python3.8/site-packages (from ipyfilechooser) (7.6.3)\n",
      "Requirement already satisfied: ipykernel>=4.5.1 in /home/javad/.local/lib/python3.8/site-packages (from ipywidgets->ipyfilechooser) (5.3.4)\n",
      "Requirement already satisfied: traitlets>=4.3.1 in /home/javad/.local/lib/python3.8/site-packages (from ipywidgets->ipyfilechooser) (5.0.4)\n",
      "Requirement already satisfied: jupyterlab-widgets>=1.0.0 in /home/javad/anaconda3/envs/NHN/lib/python3.8/site-packages (from ipywidgets->ipyfilechooser) (1.0.0)\n",
      "Requirement already satisfied: nbformat>=4.2.0 in /home/javad/anaconda3/envs/NHN/lib/python3.8/site-packages (from ipywidgets->ipyfilechooser) (5.1.2)\n",
      "Requirement already satisfied: widgetsnbextension~=3.5.0 in /home/javad/anaconda3/envs/NHN/lib/python3.8/site-packages (from ipywidgets->ipyfilechooser) (3.5.1)\n",
      "Requirement already satisfied: ipython>=4.0.0 in /home/javad/.local/lib/python3.8/site-packages (from ipywidgets->ipyfilechooser) (7.18.1)\n",
      "Requirement already satisfied: tornado>=4.2 in /home/javad/anaconda3/envs/NHN/lib/python3.8/site-packages (from ipykernel>=4.5.1->ipywidgets->ipyfilechooser) (6.1)\n",
      "Requirement already satisfied: jupyter-client in /home/javad/.local/lib/python3.8/site-packages (from ipykernel>=4.5.1->ipywidgets->ipyfilechooser) (6.1.7)\n",
      "Requirement already satisfied: backcall in /home/javad/.local/lib/python3.8/site-packages (from ipython>=4.0.0->ipywidgets->ipyfilechooser) (0.2.0)\n",
      "Requirement already satisfied: pygments in /home/javad/anaconda3/envs/NHN/lib/python3.8/site-packages (from ipython>=4.0.0->ipywidgets->ipyfilechooser) (2.7.4)\n",
      "Requirement already satisfied: prompt-toolkit!=3.0.0,!=3.0.1,<3.1.0,>=2.0.0 in /home/javad/anaconda3/envs/NHN/lib/python3.8/site-packages (from ipython>=4.0.0->ipywidgets->ipyfilechooser) (3.0.8)\n",
      "Requirement already satisfied: setuptools>=18.5 in /home/javad/.local/lib/python3.8/site-packages (from ipython>=4.0.0->ipywidgets->ipyfilechooser) (49.2.0)\n",
      "Requirement already satisfied: jedi>=0.10 in /home/javad/.local/lib/python3.8/site-packages (from ipython>=4.0.0->ipywidgets->ipyfilechooser) (0.17.2)\n",
      "Requirement already satisfied: pickleshare in /home/javad/.local/lib/python3.8/site-packages (from ipython>=4.0.0->ipywidgets->ipyfilechooser) (0.7.5)\n",
      "Requirement already satisfied: decorator in /home/javad/.local/lib/python3.8/site-packages (from ipython>=4.0.0->ipywidgets->ipyfilechooser) (4.4.2)\n",
      "Requirement already satisfied: pexpect>4.3 in /home/javad/anaconda3/envs/NHN/lib/python3.8/site-packages (from ipython>=4.0.0->ipywidgets->ipyfilechooser) (4.8.0)\n",
      "Requirement already satisfied: parso<0.8.0,>=0.7.0 in /home/javad/.local/lib/python3.8/site-packages (from jedi>=0.10->ipython>=4.0.0->ipywidgets->ipyfilechooser) (0.7.1)\n",
      "Requirement already satisfied: jupyter-core in /home/javad/.local/lib/python3.8/site-packages (from nbformat>=4.2.0->ipywidgets->ipyfilechooser) (4.6.3)\n",
      "Requirement already satisfied: ipython-genutils in /home/javad/.local/lib/python3.8/site-packages (from nbformat>=4.2.0->ipywidgets->ipyfilechooser) (0.2.0)\n",
      "Requirement already satisfied: jsonschema!=2.5.0,>=2.4 in /home/javad/anaconda3/envs/NHN/lib/python3.8/site-packages (from nbformat>=4.2.0->ipywidgets->ipyfilechooser) (3.2.0)\n",
      "Requirement already satisfied: six>=1.11.0 in /home/javad/anaconda3/envs/NHN/lib/python3.8/site-packages (from jsonschema!=2.5.0,>=2.4->nbformat>=4.2.0->ipywidgets->ipyfilechooser) (1.15.0)\n",
      "Requirement already satisfied: pyrsistent>=0.14.0 in /home/javad/anaconda3/envs/NHN/lib/python3.8/site-packages (from jsonschema!=2.5.0,>=2.4->nbformat>=4.2.0->ipywidgets->ipyfilechooser) (0.17.3)\n",
      "Requirement already satisfied: attrs>=17.4.0 in /home/javad/anaconda3/envs/NHN/lib/python3.8/site-packages (from jsonschema!=2.5.0,>=2.4->nbformat>=4.2.0->ipywidgets->ipyfilechooser) (20.3.0)\n",
      "Requirement already satisfied: ptyprocess>=0.5 in /home/javad/anaconda3/envs/NHN/lib/python3.8/site-packages (from pexpect>4.3->ipython>=4.0.0->ipywidgets->ipyfilechooser) (0.7.0)\n",
      "Requirement already satisfied: wcwidth in /home/javad/anaconda3/envs/NHN/lib/python3.8/site-packages (from prompt-toolkit!=3.0.0,!=3.0.1,<3.1.0,>=2.0.0->ipython>=4.0.0->ipywidgets->ipyfilechooser) (0.2.5)\n",
      "Requirement already satisfied: notebook>=4.4.1 in /home/javad/anaconda3/envs/NHN/lib/python3.8/site-packages (from widgetsnbextension~=3.5.0->ipywidgets->ipyfilechooser) (6.2.0)\n",
      "Requirement already satisfied: Send2Trash>=1.5.0 in /home/javad/anaconda3/envs/NHN/lib/python3.8/site-packages (from notebook>=4.4.1->widgetsnbextension~=3.5.0->ipywidgets->ipyfilechooser) (1.5.0)\n",
      "Requirement already satisfied: jinja2 in /home/javad/anaconda3/envs/NHN/lib/python3.8/site-packages (from notebook>=4.4.1->widgetsnbextension~=3.5.0->ipywidgets->ipyfilechooser) (2.11.3)\n",
      "Requirement already satisfied: terminado>=0.8.3 in /home/javad/anaconda3/envs/NHN/lib/python3.8/site-packages (from notebook>=4.4.1->widgetsnbextension~=3.5.0->ipywidgets->ipyfilechooser) (0.9.2)\n",
      "Requirement already satisfied: prometheus-client in /home/javad/anaconda3/envs/NHN/lib/python3.8/site-packages (from notebook>=4.4.1->widgetsnbextension~=3.5.0->ipywidgets->ipyfilechooser) (0.9.0)\n",
      "Requirement already satisfied: pyzmq>=17 in /home/javad/.local/lib/python3.8/site-packages (from notebook>=4.4.1->widgetsnbextension~=3.5.0->ipywidgets->ipyfilechooser) (19.0.2)\n",
      "Requirement already satisfied: nbconvert in /home/javad/anaconda3/envs/NHN/lib/python3.8/site-packages (from notebook>=4.4.1->widgetsnbextension~=3.5.0->ipywidgets->ipyfilechooser) (6.0.7)\n",
      "Requirement already satisfied: argon2-cffi in /home/javad/anaconda3/envs/NHN/lib/python3.8/site-packages (from notebook>=4.4.1->widgetsnbextension~=3.5.0->ipywidgets->ipyfilechooser) (20.1.0)\n",
      "Requirement already satisfied: python-dateutil>=2.1 in /home/javad/anaconda3/envs/NHN/lib/python3.8/site-packages (from jupyter-client->ipykernel>=4.5.1->ipywidgets->ipyfilechooser) (2.8.1)\n",
      "Requirement already satisfied: cffi>=1.0.0 in /home/javad/anaconda3/envs/NHN/lib/python3.8/site-packages (from argon2-cffi->notebook>=4.4.1->widgetsnbextension~=3.5.0->ipywidgets->ipyfilechooser) (1.14.5)\n",
      "Requirement already satisfied: pycparser in /home/javad/anaconda3/envs/NHN/lib/python3.8/site-packages (from cffi>=1.0.0->argon2-cffi->notebook>=4.4.1->widgetsnbextension~=3.5.0->ipywidgets->ipyfilechooser) (2.20)\n",
      "Requirement already satisfied: MarkupSafe>=0.23 in /home/javad/anaconda3/envs/NHN/lib/python3.8/site-packages (from jinja2->notebook>=4.4.1->widgetsnbextension~=3.5.0->ipywidgets->ipyfilechooser) (1.1.1)\n",
      "Requirement already satisfied: defusedxml in /home/javad/anaconda3/envs/NHN/lib/python3.8/site-packages (from nbconvert->notebook>=4.4.1->widgetsnbextension~=3.5.0->ipywidgets->ipyfilechooser) (0.6.0)\n",
      "Requirement already satisfied: jupyterlab-pygments in /home/javad/anaconda3/envs/NHN/lib/python3.8/site-packages (from nbconvert->notebook>=4.4.1->widgetsnbextension~=3.5.0->ipywidgets->ipyfilechooser) (0.1.2)\n",
      "Requirement already satisfied: pandocfilters>=1.4.1 in /home/javad/anaconda3/envs/NHN/lib/python3.8/site-packages (from nbconvert->notebook>=4.4.1->widgetsnbextension~=3.5.0->ipywidgets->ipyfilechooser) (1.4.3)\n",
      "Requirement already satisfied: mistune<2,>=0.8.1 in /home/javad/anaconda3/envs/NHN/lib/python3.8/site-packages (from nbconvert->notebook>=4.4.1->widgetsnbextension~=3.5.0->ipywidgets->ipyfilechooser) (0.8.4)\n",
      "Requirement already satisfied: entrypoints>=0.2.2 in /home/javad/anaconda3/envs/NHN/lib/python3.8/site-packages (from nbconvert->notebook>=4.4.1->widgetsnbextension~=3.5.0->ipywidgets->ipyfilechooser) (0.3)\n",
      "Requirement already satisfied: nbclient<0.6.0,>=0.5.0 in /home/javad/anaconda3/envs/NHN/lib/python3.8/site-packages (from nbconvert->notebook>=4.4.1->widgetsnbextension~=3.5.0->ipywidgets->ipyfilechooser) (0.5.2)\n",
      "Requirement already satisfied: bleach in /home/javad/anaconda3/envs/NHN/lib/python3.8/site-packages (from nbconvert->notebook>=4.4.1->widgetsnbextension~=3.5.0->ipywidgets->ipyfilechooser) (3.3.0)\n",
      "Requirement already satisfied: testpath in /home/javad/anaconda3/envs/NHN/lib/python3.8/site-packages (from nbconvert->notebook>=4.4.1->widgetsnbextension~=3.5.0->ipywidgets->ipyfilechooser) (0.4.4)\n"
     ]
    },
    {
     "name": "stdout",
     "output_type": "stream",
     "text": [
      "Requirement already satisfied: nest-asyncio in /home/javad/anaconda3/envs/NHN/lib/python3.8/site-packages (from nbclient<0.6.0,>=0.5.0->nbconvert->notebook>=4.4.1->widgetsnbextension~=3.5.0->ipywidgets->ipyfilechooser) (1.5.1)\n",
      "Requirement already satisfied: async-generator in /home/javad/anaconda3/envs/NHN/lib/python3.8/site-packages (from nbclient<0.6.0,>=0.5.0->nbconvert->notebook>=4.4.1->widgetsnbextension~=3.5.0->ipywidgets->ipyfilechooser) (1.10)\n",
      "Requirement already satisfied: webencodings in /home/javad/anaconda3/envs/NHN/lib/python3.8/site-packages (from bleach->nbconvert->notebook>=4.4.1->widgetsnbextension~=3.5.0->ipywidgets->ipyfilechooser) (0.5.1)\n",
      "Requirement already satisfied: packaging in /home/javad/anaconda3/envs/NHN/lib/python3.8/site-packages (from bleach->nbconvert->notebook>=4.4.1->widgetsnbextension~=3.5.0->ipywidgets->ipyfilechooser) (20.9)\n",
      "Requirement already satisfied: pyparsing>=2.0.2 in /home/javad/anaconda3/envs/NHN/lib/python3.8/site-packages (from packaging->bleach->nbconvert->notebook>=4.4.1->widgetsnbextension~=3.5.0->ipywidgets->ipyfilechooser) (2.4.7)\n",
      "Installing collected packages: ipyfilechooser\n",
      "Successfully installed ipyfilechooser-0.4.2\n"
     ]
    }
   ],
   "source": [
    "# Optional\n",
    "!pip install ipyfilechooser\n"
   ]
  }
 ],
 "metadata": {
  "kernelspec": {
   "display_name": "Python 3",
   "language": "python",
   "name": "python3"
  },
  "language_info": {
   "codemirror_mode": {
    "name": "ipython",
    "version": 3
   },
   "file_extension": ".py",
   "mimetype": "text/x-python",
   "name": "python",
   "nbconvert_exporter": "python",
   "pygments_lexer": "ipython3",
   "version": "3.8.5"
  }
 },
 "nbformat": 4,
 "nbformat_minor": 4
}
